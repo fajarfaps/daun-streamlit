{
 "cells": [
  {
   "cell_type": "code",
   "execution_count": 1,
   "id": "daf59578",
   "metadata": {},
   "outputs": [
    {
     "name": "stdout",
     "output_type": "stream",
     "text": [
      "WARNING:tensorflow:No training configuration found in the save file, so the model was *not* compiled. Compile it manually.\n",
      "WARNING:tensorflow:No training configuration found in the save file, so the model was *not* compiled. Compile it manually.\n",
      "1/1 [==============================] - 1s 1s/step\n",
      "1/1 [==============================] - 1s 1s/step\n",
      "Kelas: healty\n",
      "Skor Kepercayaan: 100.00%\n",
      "Daun Ini Sehat\n"
     ]
    }
   ],
   "source": [
    "import cv2\n",
    "import numpy as np\n",
    "from keras.models import load_model\n",
    "from keras.preprocessing import image\n",
    "from tkinter import Tk, filedialog\n",
    "\n",
    "# Muat model-model\n",
    "model1 = load_model('C:\\\\Users\\\\fajar\\\\savemodel_daun.h5')\n",
    "model2 = load_model('C:\\\\Users\\\\fajar\\\\savemodel_daun2.h5')\n",
    "\n",
    "# Inisialisasi class_labels\n",
    "class_labels = ['healty', 'early_blight', 'late_blight']\n",
    "\n",
    "Tk().withdraw()\n",
    "file_path = filedialog.askopenfilename(title=\"Pilih file gambar\", filetypes=[(\"File gambar\", \"*.png;*.jpg;*.jpeg\")])\n",
    "\n",
    "if not file_path:\n",
    "    print(\"Tidak ada file yang dipilih. Keluar.\")\n",
    "    exit()\n",
    "\n",
    "img = cv2.imread(file_path)\n",
    "\n",
    "img = cv2.resize(img, (224, 224))\n",
    "img_tensor = image.img_to_array(img)\n",
    "img_tensor = np.expand_dims(img_tensor, axis=0)\n",
    "img_tensor /= 255.\n",
    "\n",
    "# Lakukan prediksi dengan model-model\n",
    "prediction1 = model1.predict(img_tensor)\n",
    "prediction2 = model2.predict(img_tensor)\n",
    "ensemble_prediction = (prediction1 + prediction2) / 2  # Ambil rata-rata prediksi dari model-model\n",
    "\n",
    "class_index = np.argmax(ensemble_prediction[0])\n",
    "class_label = class_labels[class_index]\n",
    "\n",
    "confidence_score = ensemble_prediction[0][class_index]\n",
    "\n",
    "print(f\"Kelas: {class_label}\")\n",
    "print(f\"Skor Kepercayaan: {confidence_score * 100:.2f}%\")\n",
    "\n",
    "if class_label == 'healty':\n",
    "    print('Daun Ini Sehat')\n",
    "elif class_label == 'early_blight':\n",
    "    print('Daun ini Sedikit Layu')\n",
    "elif class_label == 'late_blight':\n",
    "    print('Daun Ini Kering')\n",
    "else:\n",
    "    print('Objek tidak diketahui')\n",
    "\n",
    "resized_frame = cv2.resize(img, (800, 800))\n",
    "\n",
    "label_texts = [f\"{class_labels[i]}: {ensemble_prediction[0][i] * 100:.2f}%\" for i in range(len(class_labels))]\n",
    "\n",
    "y_position = 60\n",
    "\n",
    "for label_text in label_texts:\n",
    "    cv2.putText(resized_frame, label_text, (10, y_position), cv2.FONT_HERSHEY_COMPLEX,\n",
    "                1.0, (0, 0, 0), 2, cv2.LINE_AA)\n",
    "    y_position += 30  \n",
    "\n",
    "cv2.imshow('Hasil Klasifikasi Gambar', resized_frame)\n",
    "cv2.waitKey(0)\n",
    "cv2.destroyAllWindows()\n"
   ]
  },
  {
   "cell_type": "code",
   "execution_count": null,
   "id": "e3347e70",
   "metadata": {},
   "outputs": [],
   "source": []
  },
  {
   "cell_type": "code",
   "execution_count": null,
   "id": "9f8b777f",
   "metadata": {},
   "outputs": [],
   "source": []
  }
 ],
 "metadata": {
  "kernelspec": {
   "display_name": "Python 3 (ipykernel)",
   "language": "python",
   "name": "python3"
  },
  "language_info": {
   "codemirror_mode": {
    "name": "ipython",
    "version": 3
   },
   "file_extension": ".py",
   "mimetype": "text/x-python",
   "name": "python",
   "nbconvert_exporter": "python",
   "pygments_lexer": "ipython3",
   "version": "3.11.0"
  }
 },
 "nbformat": 4,
 "nbformat_minor": 5
}
